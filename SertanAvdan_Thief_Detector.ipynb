{
 "cells": [
  {
   "cell_type": "markdown",
   "metadata": {},
   "source": [
    "# Thief Detector\n",
    "## This task tests your Image Processing skills to build a motion detection algorithm that alarms you when you have an unwanted visitor in your home."
   ]
  },
  {
   "cell_type": "markdown",
   "metadata": {},
   "source": [
    "## Get live video feed from webcam"
   ]
  },
  {
   "cell_type": "code",
   "execution_count": 2,
   "metadata": {},
   "outputs": [],
   "source": [
    "import cv2\n",
    "import numpy as np"
   ]
  },
  {
   "cell_type": "code",
   "execution_count": 3,
   "metadata": {},
   "outputs": [],
   "source": [
    "video_capture = cv2.VideoCapture(0)\n",
    "while True:\n",
    "    ret, frame = video_capture.read()\n",
    "    gray = cv2.cvtColor(frame, cv2.COLOR_BGR2GRAY)\n",
    "    cv2.imshow('Video', gray)\n",
    "    if cv2.waitKey(1) & 0xFF == ord('q'):\n",
    "        break\n",
    "video_capture.release()\n",
    "cv2.destroyAllWindows()"
   ]
  },
  {
   "cell_type": "markdown",
   "metadata": {},
   "source": [
    "## Read first frame, convert to Grayscale and store it as reference background image"
   ]
  },
  {
   "cell_type": "code",
   "execution_count": 4,
   "metadata": {},
   "outputs": [],
   "source": [
    "video_capture = cv2.VideoCapture(0)\n",
    "while True:\n",
    "    ret, frame = video_capture.read()\n",
    "    gray = cv2.cvtColor(frame, cv2.COLOR_BGR2GRAY)\n",
    "    background = gray\n",
    "    # save the background image\n",
    "    cv2.imwrite('background.jpg', background)\n",
    "    break"
   ]
  },
  {
   "cell_type": "markdown",
   "metadata": {},
   "source": [
    "## Compute Absolute Difference between Current and First frame"
   ]
  },
  {
   "cell_type": "code",
   "execution_count": 5,
   "metadata": {},
   "outputs": [
    {
     "name": "stdout",
     "output_type": "stream",
     "text": [
      "[[ 52  67  62 ... 115 110 110]\n",
      " [ 55  72  62 ... 107 102 104]\n",
      " [ 60  69  62 ... 110 110 112]\n",
      " ...\n",
      " [ 18  18  19 ...  96  88  78]\n",
      " [ 14  23  26 ...  99  88  80]\n",
      " [ 20  25  25 ...  88  88  84]]\n",
      "[[ 74  76  80 ... 140 139 139]\n",
      " [ 70  76  77 ... 137 138 138]\n",
      " [ 74  77  77 ... 140 140 139]\n",
      " ...\n",
      " [ 34  43  45 ... 133 129 122]\n",
      " [ 30  37  41 ... 130 127 122]\n",
      " [ 32  31  36 ... 120 130 127]]\n",
      "[[ 84  84  86 ... 149 147 152]\n",
      " [ 83  86  86 ... 145 147 152]\n",
      " [ 81  90  86 ... 148 151 149]\n",
      " ...\n",
      " [ 33  40  44 ... 139 134 133]\n",
      " [ 31  35  39 ... 130 137 135]\n",
      " [ 35  31  36 ... 128 132 134]]\n",
      "[[ 86  87  89 ... 159 157 160]\n",
      " [ 82  88  90 ... 156 157 160]\n",
      " [ 86  88  91 ... 158 159 158]\n",
      " ...\n",
      " [ 40  45  51 ... 146 145 144]\n",
      " [ 37  43  50 ... 140 143 143]\n",
      " [ 39  41  46 ... 138 139 139]]\n",
      "[[ 92  90  92 ... 163 162 164]\n",
      " [ 92  96  97 ... 161 164 167]\n",
      " [ 95  97  98 ... 163 165 162]\n",
      " ...\n",
      " [ 44  51  54 ... 146 149 150]\n",
      " [ 44  47  51 ... 142 146 148]\n",
      " [ 45  45  50 ... 140 140 144]]\n",
      "[[ 91  92  91 ... 170 169 172]\n",
      " [ 90  96  94 ... 168 169 173]\n",
      " [ 92  94  94 ... 169 170 170]\n",
      " ...\n",
      " [ 48  52  55 ... 150 152 152]\n",
      " [ 47  51  54 ... 147 150 153]\n",
      " [ 47  48  53 ... 147 149 150]]\n",
      "[[ 96  94  95 ... 174 174 177]\n",
      " [ 85  89  92 ... 173 173 177]\n",
      " [ 92  95  96 ... 172 174 174]\n",
      " ...\n",
      " [ 49  55  58 ... 151 155 153]\n",
      " [ 51  53  55 ... 152 154 154]\n",
      " [ 51  52  52 ... 151 152 153]]\n",
      "[[ 97 103  92 ... 177 176 180]\n",
      " [ 92 100  93 ... 176 176 180]\n",
      " [ 97 105  91 ... 177 179 177]\n",
      " ...\n",
      " [ 54  54  57 ... 154 159 158]\n",
      " [ 50  52  53 ... 154 157 158]\n",
      " [ 50  48  48 ... 154 157 156]]\n",
      "[[101 107  98 ... 178 179 180]\n",
      " [ 94 101  96 ... 177 180 183]\n",
      " [ 98 105  94 ... 179 181 178]\n",
      " ...\n",
      " [ 52  55  59 ... 157 159 157]\n",
      " [ 52  55  55 ... 158 154 158]\n",
      " [ 50  51  52 ... 159 159 157]]\n",
      "[[102 111 101 ... 179 184 184]\n",
      " [ 98 103 102 ... 180 184 186]\n",
      " [101 110  98 ... 181 184 181]\n",
      " ...\n",
      " [ 53  55  55 ... 159 160 159]\n",
      " [ 53  57  54 ... 160 158 159]\n",
      " [ 51  55  53 ... 159 159 159]]\n",
      "[[100 106 100 ... 180 184 183]\n",
      " [ 97 109 102 ... 183 185 183]\n",
      " [101 113 102 ... 184 183 180]\n",
      " ...\n",
      " [ 53  55  55 ... 160 160 160]\n",
      " [ 54  58  56 ... 161 158 159]\n",
      " [ 51  60  55 ... 160 159 158]]\n",
      "[[103 103 100 ... 184 186 183]\n",
      " [ 99 105 101 ... 184 186 185]\n",
      " [105 110  99 ... 184 187 183]\n",
      " ...\n",
      " [ 50  55  58 ... 159 160 159]\n",
      " [ 52  59  55 ... 160 159 159]\n",
      " [ 48  55  53 ... 160 161 163]]\n",
      "[[101 103 103 ... 184 187 185]\n",
      " [ 98 108 102 ... 186 187 185]\n",
      " [104 106  99 ... 187 188 183]\n",
      " ...\n",
      " [ 52  60  61 ... 159 160 159]\n",
      " [ 52  59  59 ... 160 162 158]\n",
      " [ 47  53  59 ... 159 160 162]]\n",
      "[[100 107 102 ... 187 187 185]\n",
      " [ 98 112 103 ... 186 186 185]\n",
      " [104 105 101 ... 185 184 185]\n",
      " ...\n",
      " [ 52  59  61 ... 163 163 161]\n",
      " [ 54  58  59 ... 163 164 159]\n",
      " [ 46  51  56 ... 160 163 164]]\n",
      "[[ 98 104  97 ... 186 187 183]\n",
      " [ 94 107 101 ... 184 184 184]\n",
      " [100 105 101 ... 184 185 184]\n",
      " ...\n",
      " [ 47  53  59 ... 163 162 164]\n",
      " [ 59  60  54 ... 161 167 163]\n",
      " [ 51  49  53 ... 160 163 165]]\n",
      "[[103 100  98 ... 186 186 183]\n",
      " [ 95 105 100 ... 186 186 186]\n",
      " [ 99 102 103 ... 186 186 186]\n",
      " ...\n",
      " [ 48  58  60 ... 161 161 160]\n",
      " [ 54  57  53 ... 162 164 162]\n",
      " [ 50  50  53 ... 160 162 164]]\n",
      "[[100 102 102 ... 187 187 182]\n",
      " [ 94 105 106 ... 186 186 185]\n",
      " [100 106 103 ... 186 186 186]\n",
      " ...\n",
      " [ 48  57  59 ... 163 162 161]\n",
      " [ 54  55  52 ... 163 165 162]\n",
      " [ 50  48  50 ... 159 161 163]]\n",
      "[[102  99 100 ... 187 186 183]\n",
      " [102 104 104 ... 185 185 185]\n",
      " [102 105 108 ... 184 185 185]\n",
      " ...\n",
      " [ 50  55  55 ... 163 165 161]\n",
      " [ 53  53  52 ... 163 168 163]\n",
      " [ 47  50  51 ... 162 165 165]]\n",
      "[[104 101 102 ... 186 186 182]\n",
      " [107 109 106 ... 184 183 184]\n",
      " [102 108 106 ... 184 184 184]\n",
      " ...\n",
      " [ 53  57  56 ... 161 161 161]\n",
      " [ 57  56  57 ... 161 167 161]\n",
      " [ 50  54  56 ... 159 164 165]]\n",
      "[[101  99 105 ... 186 187 183]\n",
      " [ 98 103 105 ... 184 183 183]\n",
      " [100 104 100 ... 184 184 183]\n",
      " ...\n",
      " [ 52  53  58 ... 160 162 159]\n",
      " [ 50  57  58 ... 160 166 161]\n",
      " [ 45  52  57 ... 158 161 164]]\n",
      "[[106  98 104 ... 187 184 183]\n",
      " [103 101 104 ... 183 183 185]\n",
      " [100 103 103 ... 184 185 184]\n",
      " ...\n",
      " [ 53  57  60 ... 159 157 157]\n",
      " [ 52  59  63 ... 159 163 159]\n",
      " [ 51  58  63 ... 158 161 163]]\n",
      "[[109  96 102 ... 186 186 183]\n",
      " [ 99  95  98 ... 184 184 185]\n",
      " [103 104  99 ... 185 186 185]\n",
      " ...\n",
      " [ 53  57  66 ... 157 154 163]\n",
      " [ 53  58  64 ... 163 160 159]\n",
      " [ 51  54  61 ... 161 162 162]]\n",
      "[[102 100 102 ... 187 186 184]\n",
      " [ 97  97  98 ... 186 185 186]\n",
      " [ 98 105  96 ... 187 187 186]\n",
      " ...\n",
      " [ 53  55  64 ... 155 158 162]\n",
      " [ 51  55  61 ... 161 165 160]\n",
      " [ 48  51  57 ... 160 163 162]]\n",
      "[[101 101 102 ... 185 185 184]\n",
      " [ 97  97  96 ... 187 185 185]\n",
      " [ 98 104  97 ... 188 186 185]\n",
      " ...\n",
      " [ 56  56  64 ... 155 158 161]\n",
      " [ 56  57  59 ... 158 160 165]\n",
      " [ 53  56  58 ... 158 161 167]]\n"
     ]
    }
   ],
   "source": [
    "video_capture = cv2.VideoCapture(0)\n",
    "while True:\n",
    "    ret, frame = video_capture.read()\n",
    "    gray = cv2.cvtColor(frame, cv2.COLOR_BGR2GRAY)\n",
    "    diff = cv2.absdiff(background, gray)\n",
    "    print(diff)\n",
    "    cv2.imshow('Video', gray)\n",
    "    if cv2.waitKey(1) & 0xFF == ord('q'):\n",
    "        break\n",
    "video_capture.release()\n",
    "cv2.destroyAllWindows()"
   ]
  },
  {
   "cell_type": "markdown",
   "metadata": {},
   "source": [
    "## Apply threshold"
   ]
  },
  {
   "cell_type": "code",
   "execution_count": 11,
   "metadata": {},
   "outputs": [],
   "source": [
    "video_capture = cv2.VideoCapture(0)\n",
    "while True:\n",
    "    ret, frame = video_capture.read()\n",
    "    gray = cv2.cvtColor(frame, cv2.COLOR_BGR2GRAY)\n",
    "    diff = cv2.absdiff(background, gray)\n",
    "    thresh = cv2.threshold(diff, 25, 255, cv2.THRESH_BINARY)[1]\n",
    "    cv2.imshow('Video', thresh)\n",
    "    if cv2.waitKey(1) & 0xFF == ord('q'):\n",
    "        break\n",
    "video_capture.release()\n",
    "cv2.destroyAllWindows()"
   ]
  },
  {
   "cell_type": "markdown",
   "metadata": {},
   "source": [
    "## Find contours "
   ]
  },
  {
   "cell_type": "code",
   "execution_count": null,
   "metadata": {},
   "outputs": [],
   "source": [
    "video_capture = cv2.VideoCapture(0)\n",
    "while True:\n",
    "    ret, frame = video_capture.read()\n",
    "    gray = cv2.cvtColor(frame, cv2.COLOR_BGR2GRAY)\n",
    "    diff = cv2.absdiff(background, gray)\n",
    "    thresh = cv2.threshold(diff, 25, 255, cv2.THRESH_BINARY)[1]\n",
    "    contours, hierarchy = cv2.findContours(thresh, cv2.RETR_EXTERNAL, cv2.CHAIN_APPROX_SIMPLE)\n",
    "    for contour in contours:\n",
    "        if cv2.contourArea(contour) > 2000:\n",
    "            (x, y, w, h) = cv2.boundingRect(contour)\n",
    "            cv2.rectangle(frame, (x, y), (x + w, y + h), (0, 255, 0), 3)\n",
    "    cv2.imshow('Video', frame)\n",
    "    if cv2.waitKey(1) & 0xFF == ord('q'):\n",
    "        break\n",
    "video_capture.release()\n",
    "cv2.destroyAllWindows()"
   ]
  },
  {
   "cell_type": "markdown",
   "metadata": {},
   "source": [
    "## Check if contourArea is large and draw rectangle around the object, output \"UNSAFE\" text in red color"
   ]
  },
  {
   "cell_type": "code",
   "execution_count": 10,
   "metadata": {},
   "outputs": [],
   "source": [
    "video_capture = cv2.VideoCapture(0)\n",
    "while True:\n",
    "    ret, frame = video_capture.read()\n",
    "    gray = cv2.cvtColor(frame, cv2.COLOR_BGR2GRAY)\n",
    "    diff = cv2.absdiff(background, gray)\n",
    "    thresh = cv2.threshold(diff, 25, 255, cv2.THRESH_BINARY)[1]\n",
    "    contours, hierarchy = cv2.findContours(thresh, cv2.RETR_EXTERNAL, cv2.CHAIN_APPROX_SIMPLE)\n",
    "    for contour in contours:\n",
    "        if cv2.contourArea(contour) > 2000:\n",
    "            (x, y, w, h) = cv2.boundingRect(contour)\n",
    "            cv2.rectangle(frame, (x, y), (x + w, y + h), (0, 255, 0), 3)\n",
    "            cv2.putText(frame, \"Thief Detected\", (10, 20), cv2.FONT_HERSHEY_SIMPLEX, 0.75, (0, 0, 255), 2)\n",
    "    cv2.imshow('Video', frame)\n",
    "    if cv2.waitKey(1) & 0xFF == ord('q'):\n",
    "        break\n",
    "video_capture.release()\n",
    "cv2.destroyAllWindows()"
   ]
  },
  {
   "cell_type": "markdown",
   "metadata": {},
   "source": [
    "## Display images"
   ]
  },
  {
   "cell_type": "code",
   "execution_count": 4,
   "metadata": {},
   "outputs": [],
   "source": [
    "import uuid\n",
    "video_capture = cv2.VideoCapture(0)\n",
    "while True:\n",
    "    ret, frame = video_capture.read()\n",
    "    gray = cv2.cvtColor(frame, cv2.COLOR_BGR2GRAY)\n",
    "    diff = cv2.absdiff(background, gray)\n",
    "    thresh = cv2.threshold(diff, 25, 255, cv2.THRESH_BINARY)[1]\n",
    "    contours, hierarchy = cv2.findContours(thresh, cv2.RETR_EXTERNAL, cv2.CHAIN_APPROX_SIMPLE)\n",
    "    for contour in contours:\n",
    "        if cv2.contourArea(contour) > 30000:\n",
    "            (x, y, w, h) = cv2.boundingRect(contour)\n",
    "            cv2.rectangle(frame, (x, y), (x + w, y + h), (0, 255, 0), 3)\n",
    "            cv2.putText(frame, \"Thief Detected\", (10, 20), cv2.FONT_HERSHEY_SIMPLEX, 0.75, (0, 0, 255), 2)\n",
    "    cv2.imshow('Video', frame)\n",
    "    if cv2.waitKey(1) & 0xFF == ord('q'):\n",
    "        break\n",
    "video_capture.release()\n",
    "cv2.destroyAllWindows()"
   ]
  },
  {
   "cell_type": "markdown",
   "metadata": {},
   "source": [
    "## Release objects"
   ]
  },
  {
   "cell_type": "code",
   "execution_count": 5,
   "metadata": {},
   "outputs": [],
   "source": [
    "video = cv2.VideoCapture(0)\n",
    "\n",
    "width = int(video.get(cv2.CAP_PROP_FRAME_WIDTH))\n",
    "height = int(video.get(cv2.CAP_PROP_FRAME_HEIGHT))\n",
    "\n",
    "fourcc = cv2.VideoWriter_fourcc('m', 'p', '4', 'v')\n",
    "out = cv2.VideoWriter('data/output.mp4', fourcc, 24, (width, height))\n",
    "\n",
    "thiefIsInside = False"
   ]
  },
  {
   "cell_type": "code",
   "execution_count": 9,
   "metadata": {},
   "outputs": [],
   "source": [
    "import uuid\n",
    "from IPython.display import Video\n",
    "video_capture = cv2.VideoCapture(0)\n",
    "while True:\n",
    "    ret, frame = video_capture.read()\n",
    "    gray = cv2.cvtColor(frame, cv2.COLOR_BGR2GRAY)\n",
    "    diff = cv2.absdiff(background, gray)\n",
    "    thresh = cv2.threshold(diff, 25, 255, cv2.THRESH_BINARY)[1]\n",
    "    contours, hierarchy = cv2.findContours(thresh, cv2.RETR_EXTERNAL, cv2.CHAIN_APPROX_SIMPLE)\n",
    "    for contour in contours:\n",
    "        if cv2.contourArea(contour) > 2000:\n",
    "            (x, y, w, h) = cv2.boundingRect(contour)\n",
    "            cv2.rectangle(frame, (x, y), (x + w, y + h), (0, 255, 0), 3)\n",
    "            cv2.putText(frame, \"Thief Detected\", (10, 20), cv2.FONT_HERSHEY_SIMPLEX, 1, (0, 0, 255), 2)\n",
    "            thiefIsInside = True\n",
    "        else:\n",
    "            thiefIsInside = False\n",
    "\n",
    "    if thiefIsInside:\n",
    "        out.write(frame)\n",
    "    else:\n",
    "        out.release()\n",
    "        out = cv2.VideoWriter('data/output.mp4', fourcc, 24, (width, height))\n",
    "          \n",
    "    cv2.imshow('Video', frame)\n",
    "    if cv2.waitKey(1) & 0xFF == ord('q'):\n",
    "        break\n",
    "\n",
    "\n",
    "video_capture.release()\n",
    "cv2.destroyAllWindows()"
   ]
  }
 ],
 "metadata": {
  "kernelspec": {
   "display_name": "Python 3.11.0 ('CV')",
   "language": "python",
   "name": "python3"
  },
  "language_info": {
   "codemirror_mode": {
    "name": "ipython",
    "version": 3
   },
   "file_extension": ".py",
   "mimetype": "text/x-python",
   "name": "python",
   "nbconvert_exporter": "python",
   "pygments_lexer": "ipython3",
   "version": "3.11.0"
  },
  "vscode": {
   "interpreter": {
    "hash": "9bb4e10bd348ea09997d1dd2c3b781d850f7c0af4d0cf7c7a7791bc3067887d9"
   }
  }
 },
 "nbformat": 4,
 "nbformat_minor": 4
}
